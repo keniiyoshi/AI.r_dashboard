{
    "nbformat_minor": 1, 
    "cells": [
        {
            "execution_count": 3, 
            "cell_type": "code", 
            "metadata": {}, 
            "outputs": [
                {
                    "execution_count": 3, 
                    "metadata": {}, 
                    "data": {
                        "text/html": "<div>\n<style scoped>\n    .dataframe tbody tr th:only-of-type {\n        vertical-align: middle;\n    }\n\n    .dataframe tbody tr th {\n        vertical-align: top;\n    }\n\n    .dataframe thead th {\n        text-align: right;\n    }\n</style>\n<table border=\"1\" class=\"dataframe\">\n  <thead>\n    <tr style=\"text-align: right;\">\n      <th></th>\n      <th>Month</th>\n      <th>Origin</th>\n      <th>Destination</th>\n      <th>KeyAccount</th>\n      <th>CargoWeight</th>\n    </tr>\n  </thead>\n  <tbody>\n    <tr>\n      <th>0</th>\n      <td>1</td>\n      <td>ABZ</td>\n      <td>AUH</td>\n      <td>4</td>\n      <td>2809</td>\n    </tr>\n    <tr>\n      <th>1</th>\n      <td>1</td>\n      <td>ABZ</td>\n      <td>AUH</td>\n      <td>6</td>\n      <td>245</td>\n    </tr>\n    <tr>\n      <th>2</th>\n      <td>1</td>\n      <td>ABZ</td>\n      <td>AUH</td>\n      <td>3</td>\n      <td>70</td>\n    </tr>\n    <tr>\n      <th>3</th>\n      <td>1</td>\n      <td>ABZ</td>\n      <td>BKK</td>\n      <td>3</td>\n      <td>70</td>\n    </tr>\n    <tr>\n      <th>4</th>\n      <td>1</td>\n      <td>ABZ</td>\n      <td>BOM</td>\n      <td>3</td>\n      <td>67</td>\n    </tr>\n  </tbody>\n</table>\n</div>", 
                        "text/plain": "   Month Origin Destination  KeyAccount  CargoWeight\n0      1    ABZ         AUH           4         2809\n1      1    ABZ         AUH           6          245\n2      1    ABZ         AUH           3           70\n3      1    ABZ         BKK           3           70\n4      1    ABZ         BOM           3           67"
                    }, 
                    "output_type": "execute_result"
                }
            ], 
            "source": "# The code was removed by Watson Studio for sharing."
        }, 
        {
            "execution_count": 19, 
            "cell_type": "code", 
            "metadata": {}, 
            "outputs": [
                {
                    "output_type": "stream", 
                    "name": "stdout", 
                    "text": "       CargoWeight\nMonth             \n1.0    1882.787879\n2.0    3566.194030\n3.0    3454.553846\n4.0    2611.523077\n5.0    3268.301587\n6.0    2291.426230\n7.0    3157.951613\n8.0    2975.483871\n9.0    3277.457627\n10.0   2833.850000\n11.0   2249.101695\n12.0   2217.932203\n"
                }
            ], 
            "source": "g_accounts=df_main.groupby(\"KeyAccount\")\ndf_account1=g_account1.get_group(1)\ng_account1_origin=df_account1.groupby(\"Origin\")\ndf_account1_AUH=g_account1_origin.get_group(\"AUH\")\nmonth_g=df_account1_AUH.groupby(\"Month\")\n\n#plot for all region, but averaged\ndata_by_month={\n    'Month':[],\n    'CargoWeight':[]\n}\n\n# first part\ndata_by_month_df=pd.DataFrame(data_by_month)\n\nfor x in range (1,13):\n#     second part\n    month_x=month_g.get_group(x)\n    month_x_df=pd.DataFrame(month_x)\n    \n    monthly_cap={\n    'Month':[x],\n    'CargoWeight':[month_x_df['CargoWeight'].mean()]\n    }\n    monthly_cap_df=pd.DataFrame(monthly_cap)\n#     add an average instead\n    data_by_month_df=pd.concat([data_by_month_df,monthly_cap_df[['Month','CargoWeight']].head(1)])\n\n# currently outputs 1st row of every month. I want an average though\nprint (data_by_month_df.set_index(\"Month\"))\n\n# print(\"check: Month 12 mean:\",month_x_df['CargoCapacity'].mean())"
        }, 
        {
            "execution_count": null, 
            "cell_type": "code", 
            "metadata": {}, 
            "outputs": [], 
            "source": "import seaborn as sns\nimport numpy as np\n\n# allow plots to appear within the notebook\n%matplotlib inline\n\n# visualize the relationship bbetween the features and the response using scatterplots\nsns.pairplot(data_by_month_df, x_vars=['DepMonth'], y_vars='CargoCapacity', size=5, aspect=3, kind='reg')\n\n# feature names\nfeature_names = ['DepMonth']\n\n# matrix training instances\nX = data_by_month_df[feature_names]\n\n# target output\nlabel = 'CargoCapacity'\ny = data_by_month_df[label]\n\n# print(X.head())\n# print('-------------------------')\n# print(y.head())\n\n# How many training examples do we got?\n# (row, col) -> (number of training examples, number of variables/features)\n# print(X.shape)\n\n# Splitting X and y into training and testing sets\nfrom sklearn.model_selection import train_test_split\n\n# As we are spliting data randomly,\n# We use random_state=1 for reproducibility of this kernel results on your machine\n# otherwise you would get differnt coeficients\nX_train, X_test, y_train, y_test = train_test_split(X, y, random_state=1)\n\n# default split is 75% for training and 25% for testing\n# print(X_train.shape)\n# print(y_train.shape)\n# print(X_test.shape)\n# print(y_test.shape)\n\n# Linear Regression Model\n\n# import model\nfrom sklearn.linear_model import LinearRegression\n\n# import module to calculate model perfomance metrics\nfrom sklearn import metrics\n\n# instantiate\n# throws warning\nlinreg = LinearRegression()\n\n# fit the model to the training data (learn the coefficients)\nlinreg.fit(X_train, y_train)\n\n# print the intercept and coefficients\n# print(linreg.intercept_)\n# print(linreg.coef_)\n\n# pair the feature names with the coefficients\nlist(zip(feature_names, linreg.coef_))\n\n# make predictions on the testing set\ny_pred = linreg.predict(X_test)\n\n# We want to compute the RMSQ using the true testing(y) and our predicted(Y)\nprint(np.sqrt(metrics.mean_squared_error(y_test, y_pred)))\n# print('Learned  linear functin is: y= ',int(linreg.intercept_),\"+\",int(linreg.coef_),\"* DepMonth\")"
        }, 
        {
            "execution_count": null, 
            "cell_type": "code", 
            "metadata": {}, 
            "outputs": [], 
            "source": "\n# print(\"Insight:\")\n# print(\"Forecast of Total Global Cargo Capacity Departing from AUH for 2019:\")\n# for x in range (1,13):\n#     print(\" Month \",x,\":\", int(linreg.intercept_+ x* float(linreg.coef_)), \"tons\")"
        }
    ], 
    "metadata": {
        "kernelspec": {
            "display_name": "Python 3.5", 
            "name": "python3", 
            "language": "python"
        }, 
        "language_info": {
            "mimetype": "text/x-python", 
            "nbconvert_exporter": "python", 
            "version": "3.5.5", 
            "name": "python", 
            "file_extension": ".py", 
            "pygments_lexer": "ipython3", 
            "codemirror_mode": {
                "version": 3, 
                "name": "ipython"
            }
        }
    }, 
    "nbformat": 4
}